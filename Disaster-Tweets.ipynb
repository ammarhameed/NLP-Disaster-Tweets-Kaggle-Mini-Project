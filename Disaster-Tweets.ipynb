{
 "cells": [
  {
   "cell_type": "markdown",
   "id": "201a2d41-2261-4094-9a9a-4bef49a6cb3d",
   "metadata": {},
   "source": [
    "# NLP Disaster Tweets Kaggle Mini-Project"
   ]
  },
  {
   "cell_type": "markdown",
   "id": "e1343aaa-b404-4b6d-8f7c-30ed239b98f2",
   "metadata": {},
   "source": [
    "## Introduction \n",
    "\n",
    "\n",
    "I’ll walk you through my mini-project NLP Disaster Tweets Kaggle Mini-Project, where I participated in the Kaggle competition \"Natural Language Processing with Disaster Tweets.\" My goal was to classify tweets as either reporting a disaster or not.\n",
    "\n",
    "* **Data Format**: Each sample in the train and test sets contains:\n",
    "\n",
    "    - The text of a tweet\n",
    "    - A keyword from the tweet  \n",
    "    - The location the tweet was sent from  \n",
    "\n",
    "* **Task:** Predict if a tweet is a disaster or not\n",
    "\n",
    "* **File Details**\n",
    "    - train.csv: Contains the training set, including the target variable.\n",
    "    - test.csv: Contains the test set.\n",
    "    - sample_submission.csv: A sample file formatted for submissions.\n",
    "\n",
    "* **Columns in the train dataset**:\n",
    "      \n",
    "    - id: Unique identifier for each tweet\n",
    "    - text: The tweet's content\n",
    "    - location: The tweet's sending location (may be blank)\n",
    "    - keyword: A keyword from the tweet (may be blank)\n",
    "    - target: Indicates if the tweet is about a real disaster (1) or not (0) in train.csv only.\n",
    "\n",
    "\n"
   ]
  },
  {
   "cell_type": "markdown",
   "id": "75205f9a-72e7-41d9-bd6b-c68e3fd76b4a",
   "metadata": {},
   "source": [
    "## Imports"
   ]
  },
  {
   "cell_type": "code",
   "execution_count": 2,
   "id": "ea660ceb-4ae8-40ec-8e78-78101b629fbe",
   "metadata": {},
   "outputs": [],
   "source": [
    "import numpy as np\n",
    "import pandas as pd \n",
    "import matplotlib.pyplot as plt\n",
    "import sklearn\n",
    "import random\n",
    "import os\n",
    "train_on_gpu = True\n",
    "import tensorflow as tf\n",
    "from tensorflow import keras\n",
    "from tensorflow.keras.layers import BatchNormalization, Input, Add, Dense, Activation, ZeroPadding2D, Flatten\n",
    "from tensorflow.keras.initializers import random_uniform, glorot_uniform, constant, identity\n",
    "from tensorflow.keras.models import Model, load_model\n",
    "import tensorflow as tf\n",
    "import pathlib\n",
    "import tensorflow_io as tfio\n",
    "from tensorflow.keras.optimizers import Adam\n",
    "import seaborn as sns"
   ]
  },
  {
   "cell_type": "code",
   "execution_count": null,
   "id": "212e3933-e49d-464d-8915-d74b34d0e14f",
   "metadata": {},
   "outputs": [],
   "source": []
  },
  {
   "cell_type": "markdown",
   "id": "02fda9d1-0073-44e8-92ac-742920473ce0",
   "metadata": {},
   "source": [
    "## Exploratory Data Analysis (EDA)"
   ]
  },
  {
   "cell_type": "markdown",
   "id": "c0577271-6d04-4429-adb2-801b5e346d18",
   "metadata": {},
   "source": [
    "* Let's load the dataset first "
   ]
  },
  {
   "cell_type": "code",
   "execution_count": 3,
   "id": "916cf124-1c04-4cc7-8757-b08a94b5b4ef",
   "metadata": {},
   "outputs": [],
   "source": [
    "train_path = \"dataset/nlp-getting-started/train.csv\"\n",
    "test_path = \"dataset/nlp-getting-started/test.csv\"\n",
    "\n",
    "data = pd.read_csv(train_path)"
   ]
  },
  {
   "cell_type": "markdown",
   "id": "3ff639c5-0640-4476-8bd8-123554dd5166",
   "metadata": {},
   "source": [
    "* Display basic information about the dataset"
   ]
  },
  {
   "cell_type": "code",
   "execution_count": 4,
   "id": "2682dc71-3281-4d1d-aac0-e1017ddb3fe4",
   "metadata": {},
   "outputs": [
    {
     "name": "stdout",
     "output_type": "stream",
     "text": [
      "Dataset information:\n",
      "<class 'pandas.core.frame.DataFrame'>\n",
      "RangeIndex: 7613 entries, 0 to 7612\n",
      "Data columns (total 5 columns):\n",
      " #   Column    Non-Null Count  Dtype \n",
      "---  ------    --------------  ----- \n",
      " 0   id        7613 non-null   int64 \n",
      " 1   keyword   7552 non-null   object\n",
      " 2   location  5080 non-null   object\n",
      " 3   text      7613 non-null   object\n",
      " 4   target    7613 non-null   int64 \n",
      "dtypes: int64(2), object(3)\n",
      "memory usage: 297.5+ KB\n",
      "None\n"
     ]
    }
   ],
   "source": [
    "print(\"Dataset information:\")\n",
    "print(data.info())"
   ]
  },
  {
   "cell_type": "markdown",
   "id": "0058f6c7-53d1-4d72-93ef-c693ee564853",
   "metadata": {},
   "source": [
    "* Display first few rows of the dataset"
   ]
  },
  {
   "cell_type": "code",
   "execution_count": 5,
   "id": "01ddd785-111f-4e15-9caf-dd8850293ff6",
   "metadata": {},
   "outputs": [
    {
     "name": "stdout",
     "output_type": "stream",
     "text": [
      "\n",
      "First few rows of the dataset:\n",
      "   id keyword location                                               text  \\\n",
      "0   1     NaN      NaN  Our Deeds are the Reason of this #earthquake M...   \n",
      "1   4     NaN      NaN             Forest fire near La Ronge Sask. Canada   \n",
      "2   5     NaN      NaN  All residents asked to 'shelter in place' are ...   \n",
      "3   6     NaN      NaN  13,000 people receive #wildfires evacuation or...   \n",
      "4   7     NaN      NaN  Just got sent this photo from Ruby #Alaska as ...   \n",
      "\n",
      "   target  \n",
      "0       1  \n",
      "1       1  \n",
      "2       1  \n",
      "3       1  \n",
      "4       1  \n"
     ]
    }
   ],
   "source": [
    "print(\"\\nFirst few rows of the dataset:\")\n",
    "print(data.head())"
   ]
  },
  {
   "cell_type": "markdown",
   "id": "f93762d8-abd7-4f22-837b-7034cf9c171e",
   "metadata": {},
   "source": [
    "* Summary statistics of numerical columns"
   ]
  },
  {
   "cell_type": "code",
   "execution_count": 6,
   "id": "6e0c3916-aafe-4165-944d-19d91161f183",
   "metadata": {},
   "outputs": [
    {
     "name": "stdout",
     "output_type": "stream",
     "text": [
      "\n",
      "Summary statistics of numerical columns:\n",
      "                 id      target\n",
      "count   7613.000000  7613.00000\n",
      "mean    5441.934848     0.42966\n",
      "std     3137.116090     0.49506\n",
      "min        1.000000     0.00000\n",
      "25%     2734.000000     0.00000\n",
      "50%     5408.000000     0.00000\n",
      "75%     8146.000000     1.00000\n",
      "max    10873.000000     1.00000\n"
     ]
    }
   ],
   "source": [
    "print(\"\\nSummary statistics of numerical columns:\")\n",
    "print(data.describe())\n"
   ]
  },
  {
   "cell_type": "markdown",
   "id": "1acc556d-c28a-424e-a6fc-0af993795c3c",
   "metadata": {},
   "source": [
    "* It's time to check for missing values now"
   ]
  },
  {
   "cell_type": "code",
   "execution_count": 7,
   "id": "784396ef-d05b-46c3-8938-c7a7ee05e95e",
   "metadata": {},
   "outputs": [
    {
     "name": "stdout",
     "output_type": "stream",
     "text": [
      "\n",
      "Missing values:\n",
      "id             0\n",
      "keyword       61\n",
      "location    2533\n",
      "text           0\n",
      "target         0\n",
      "dtype: int64\n"
     ]
    }
   ],
   "source": [
    "print(\"\\nMissing values:\")\n",
    "print(data.isnull().sum())"
   ]
  },
  {
   "cell_type": "markdown",
   "id": "30b8afb4-0acc-47fe-845d-5fa86fa7fc1f",
   "metadata": {},
   "source": [
    "We can see above have some missing data in the location and keyword "
   ]
  },
  {
   "cell_type": "markdown",
   "id": "8bd9842b-8808-4f58-a5aa-06ee7844dfed",
   "metadata": {},
   "source": [
    "* Distribution of target variable"
   ]
  },
  {
   "cell_type": "code",
   "execution_count": 8,
   "id": "f3c1765e-a214-4d2a-8fed-a8a3ed5ec0c8",
   "metadata": {},
   "outputs": [
    {
     "name": "stdout",
     "output_type": "stream",
     "text": [
      "target\n",
      "0    4342\n",
      "1    3271\n",
      "Name: count, dtype: int64\n",
      "Imbalance ratio (0 to 1): 1.33\n"
     ]
    }
   ],
   "source": [
    "target_count = data['target'].value_counts()\n",
    "print(target_count)\n",
    "print(\"Imbalance ratio (0 to 1):\", round(target_count[0]/(target_count[1]), 2))"
   ]
  },
  {
   "cell_type": "code",
   "execution_count": 9,
   "id": "d89ca8d7-2fc7-4156-a658-e755b6f32a43",
   "metadata": {},
   "outputs": [
    {
     "data": {
      "image/png": "[encoded data removed]",
      "text/plain": [
       "<Figure size 600x400 with 1 Axes>"
      ]
     },
     "metadata": {},
     "output_type": "display_data"
    }
   ],
   "source": [
    "\n",
    "plt.figure(figsize=(6, 4))\n",
    "data['target'].value_counts().plot(kind='bar')\n",
    "plt.title(\"Distribution of Target Variable\")\n",
    "plt.xlabel(\"Target\")\n",
    "plt.ylabel(\"Count\")\n",
    "plt.xticks(rotation=0)\n",
    "plt.show()"
   ]
  },
  {
   "cell_type": "markdown",
   "id": "7330ac34-5538-4600-87c7-6514cc5e78e4",
   "metadata": {},
   "source": [
    "We can see above that the targets aren't completly balanced, it's not that serious though, we can see the Imbalance ratio `(0 to 1)` is `1.33`"
   ]
  },
  {
   "cell_type": "markdown",
   "id": "af76cb0b-f3ce-456a-b53e-67a1e2742e6b",
   "metadata": {},
   "source": [
    "* Distribution of tweet lengths"
   ]
  },
  {
   "cell_type": "code",
   "execution_count": 10,
   "id": "1ba3ce57-26fc-465a-85b4-81b1ca841a7b",
   "metadata": {},
   "outputs": [
    {
     "data": {
      "image/png": "[encoded data removed]",
      "text/plain": [
       "<Figure size 1000x600 with 1 Axes>"
      ]
     },
     "metadata": {},
     "output_type": "display_data"
    }
   ],
   "source": [
    "data['tweet_length'] = data['text'].apply(len)\n",
    "plt.figure(figsize=(10, 6))\n",
    "plt.hist(data['tweet_length'], bins=30)\n",
    "plt.title(\"Distribution of Tweet Lengths\")\n",
    "plt.xlabel(\"Tweet Length\")\n",
    "plt.ylabel(\"Count\")\n",
    "plt.show()"
   ]
  },
  {
   "cell_type": "markdown",
   "id": "6e1adf23-1367-43c8-bd30-c377a66626ff",
   "metadata": {},
   "source": [
    "* Distribution of keyword occurrences\n"
   ]
  },
  {
   "cell_type": "code",
   "execution_count": 11,
   "id": "5d7cff46-43e0-457c-b403-01e3f9db8fed",
   "metadata": {},
   "outputs": [
    {
     "data": {
      "image/png": "[encoded data removed]",
      "text/plain": [
       "<Figure size 1000x600 with 1 Axes>"
      ]
     },
     "metadata": {},
     "output_type": "display_data"
    }
   ],
   "source": [
    "plt.figure(figsize=(10, 6))\n",
    "data['keyword'].value_counts().head(20).plot(kind='barh')\n",
    "plt.title(\"Top 20 Keywords\")\n",
    "plt.xlabel(\"Count\")\n",
    "plt.ylabel(\"Keyword\")\n",
    "plt.show()"
   ]
  },
  {
   "cell_type": "markdown",
   "id": "2507295d-2c10-4073-8b0f-1d5ffde9dc3f",
   "metadata": {},
   "source": [
    "* Distribution of locations\n"
   ]
  },
  {
   "cell_type": "code",
   "execution_count": 12,
   "id": "d31eb07e-4069-44d9-9c55-0485b86b6a80",
   "metadata": {},
   "outputs": [
    {
     "data": {
      "image/png": "[encoded data removed]",
      "text/plain": [
       "<Figure size 1000x600 with 1 Axes>"
      ]
     },
     "metadata": {},
     "output_type": "display_data"
    }
   ],
   "source": [
    "plt.figure(figsize=(10, 6))\n",
    "data['location'].value_counts().head(20).plot(kind='barh')\n",
    "plt.title(\"Top 20 Locations\")\n",
    "plt.xlabel(\"Count\")\n",
    "plt.ylabel(\"Location\")\n",
    "plt.show()"
   ]
  },
  {
   "cell_type": "markdown",
   "id": "2c6bc27b-3f43-4022-88dd-26c72b9e6dbc",
   "metadata": {},
   "source": [
    "## Prepare the data"
   ]
  },
  {
   "cell_type": "markdown",
   "id": "d71da4af-50df-4e4e-8f32-8ceb52358f5e",
   "metadata": {},
   "source": [
    "As seen above, we have **61** values missing for the `keyword` and **2533** for `location`, I will be filling up the missign data with NA\n"
   ]
  },
  {
   "cell_type": "code",
   "execution_count": 13,
   "id": "dc75a779-4f16-4f91-b724-2d347d73a1d5",
   "metadata": {},
   "outputs": [
    {
     "name": "stdout",
     "output_type": "stream",
     "text": [
      "Missing values after filling with NaN:\n",
      "id              0\n",
      "keyword         0\n",
      "location        0\n",
      "text            0\n",
      "target          0\n",
      "tweet_length    0\n",
      "dtype: int64\n"
     ]
    }
   ],
   "source": [
    "new_dataset = data = data.fillna('NA')\n",
    "print(\"Missing values after filling with NaN:\")\n",
    "print(new_dataset.isnull().sum())"
   ]
  },
  {
   "cell_type": "code",
   "execution_count": 14,
   "id": "94a7d5e1-e4b6-45b2-bb75-7641e2dea79b",
   "metadata": {},
   "outputs": [
    {
     "data": {
      "text/html": [
       "<div>\n",
       "<style scoped>\n",
       "    .dataframe tbody tr th:only-of-type {\n",
       "        vertical-align: middle;\n",
       "    }\n",
       "\n",
       "    .dataframe tbody tr th {\n",
       "        vertical-align: top;\n",
       "    }\n",
       "\n",
       "    .dataframe thead th {\n",
       "        text-align: right;\n",
       "    }\n",
       "</style>\n",
       "<table border=\"1\" class=\"dataframe\">\n",
       "  <thead>\n",
       "    <tr style=\"text-align: right;\">\n",
       "      <th></th>\n",
       "      <th>id</th>\n",
       "      <th>keyword</th>\n",
       "      <th>location</th>\n",
       "      <th>text</th>\n",
       "      <th>target</th>\n",
       "      <th>tweet_length</th>\n",
       "    </tr>\n",
       "  </thead>\n",
       "  <tbody>\n",
       "    <tr>\n",
       "      <th>0</th>\n",
       "      <td>1</td>\n",
       "      <td>NA</td>\n",
       "      <td>NA</td>\n",
       "      <td>Our Deeds are the Reason of this #earthquake M...</td>\n",
       "      <td>1</td>\n",
       "      <td>69</td>\n",
       "    </tr>\n",
       "    <tr>\n",
       "      <th>1</th>\n",
       "      <td>4</td>\n",
       "      <td>NA</td>\n",
       "      <td>NA</td>\n",
       "      <td>Forest fire near La Ronge Sask. Canada</td>\n",
       "      <td>1</td>\n",
       "      <td>38</td>\n",
       "    </tr>\n",
       "    <tr>\n",
       "      <th>2</th>\n",
       "      <td>5</td>\n",
       "      <td>NA</td>\n",
       "      <td>NA</td>\n",
       "      <td>All residents asked to 'shelter in place' are ...</td>\n",
       "      <td>1</td>\n",
       "      <td>133</td>\n",
       "    </tr>\n",
       "    <tr>\n",
       "      <th>3</th>\n",
       "      <td>6</td>\n",
       "      <td>NA</td>\n",
       "      <td>NA</td>\n",
       "      <td>13,000 people receive #wildfires evacuation or...</td>\n",
       "      <td>1</td>\n",
       "      <td>65</td>\n",
       "    </tr>\n",
       "    <tr>\n",
       "      <th>4</th>\n",
       "      <td>7</td>\n",
       "      <td>NA</td>\n",
       "      <td>NA</td>\n",
       "      <td>Just got sent this photo from Ruby #Alaska as ...</td>\n",
       "      <td>1</td>\n",
       "      <td>88</td>\n",
       "    </tr>\n",
       "  </tbody>\n",
       "</table>\n",
       "</div>"
      ],
      "text/plain": [
       "   id keyword location                                               text  \\\n",
       "0   1      NA       NA  Our Deeds are the Reason of this #earthquake M...   \n",
       "1   4      NA       NA             Forest fire near La Ronge Sask. Canada   \n",
       "2   5      NA       NA  All residents asked to 'shelter in place' are ...   \n",
       "3   6      NA       NA  13,000 people receive #wildfires evacuation or...   \n",
       "4   7      NA       NA  Just got sent this photo from Ruby #Alaska as ...   \n",
       "\n",
       "   target  tweet_length  \n",
       "0       1            69  \n",
       "1       1            38  \n",
       "2       1           133  \n",
       "3       1            65  \n",
       "4       1            88  "
      ]
     },
     "execution_count": 14,
     "metadata": {},
     "output_type": "execute_result"
    }
   ],
   "source": [
    "new_dataset.head()"
   ]
  },
  {
   "cell_type": "markdown",
   "id": "55d01c94-62ce-459e-84a0-3f07c3da73f4",
   "metadata": {},
   "source": [
    "Next, let's count the total number of words, this will become useful when creating the embedding layer"
   ]
  },
  {
   "cell_type": "code",
   "execution_count": 15,
   "id": "3d7867b9-4d75-45b2-a026-0a10cfbd0fb9",
   "metadata": {},
   "outputs": [
    {
     "name": "stdout",
     "output_type": "stream",
     "text": [
      "Total number of unique words in the 'text' column: 31924\n"
     ]
    }
   ],
   "source": [
    "# Split each tweet into words and concatenate them into a single list\n",
    "all_words = ' '.join(new_dataset['text']).split()\n",
    "\n",
    "# Calculate the total number of unique words\n",
    "unique_words = set(all_words)\n",
    "\n",
    "print(\"Total number of unique words in the 'text' column:\", len(unique_words))\n"
   ]
  },
  {
   "cell_type": "code",
   "execution_count": 18,
   "id": "349ca340-a6a0-45d7-9e15-99e857681ca4",
   "metadata": {},
   "outputs": [
    {
     "name": "stdout",
     "output_type": "stream",
     "text": [
      "Train dataset shape: (6090,)\n",
      "Validation dataset shape: (1523,)\n"
     ]
    }
   ],
   "source": [
    "from sklearn.model_selection import train_test_split\n",
    "\n",
    "# I'll first extract the text column and the target column only for now\n",
    "X = data['text']\n",
    "y = data['target']\n",
    "\n",
    "# Split the data into train and validation sets\n",
    "X_train, X_valid, y_train, y_valid = train_test_split(X, y, test_size=0.2, random_state=42)\n",
    "\n",
    "# Check the shapes of the datasets\n",
    "print(\"Train dataset shape:\", X_train.shape)\n",
    "print(\"Validation dataset shape:\", X_valid.shape)\n"
   ]
  },
  {
   "cell_type": "code",
   "execution_count": 19,
   "id": "b2161b94-2d61-447b-95f1-a18a931f1fd3",
   "metadata": {
    "scrolled": true
   },
   "outputs": [
    {
     "name": "stdout",
     "output_type": "stream",
     "text": [
      "tf.Tensor(\n",
      "[b'catastrophic-fallen-angel: reveillertm: macabrelolita: I was supposed to write \\xc2\\x89\\xc3\\x9b\\xc3\\xb7amino acids\\xc2\\x89\\xc3\\x9b\\xc2\\xaa and I nearly... http://t.co/dIoBzGHFju'\n",
      " b\"Hey #movietheatre mass murderer wanna-be we don't play that shit in the #615!\"\n",
      " b'The X-rays in MKX be looking like fatalities.'\n",
      " b'Sassy city girl country hunk stranded in Smoky Mountain snowstorm #AoMS http://t.co/nkKcTttsD9 #ibooklove #bookboost'\n",
      " b\"How to ruin the holidays in 3 wordk: 'It's a Zmne!'\"\n",
      " b\"I don't doubt it. But it was his implicit statement in doing it that makes me want him flattened by a bus. https://t.co/5hlJUcxI0S\"\n",
      " b\"@CounterMoonbat @Voodoo_Ben I've heard we're still using Purple Hearts manufactured then bc of the # of casualties we expected.\"\n",
      " b'@GeorgeFoster72 and The Wreck of the Edmund Fitzgerald'\n",
      " b\"News: 'Islamic State claims suicide bombing at Saudi Arabian mosque' http://t.co/vIJfNHl630\"\n",
      " b'What Natural Disaster Are You When You Get Angry? http://t.co/q4gl3Dvhu1'\n",
      " b'Some kids going to leadership camp came into my work today asking for the bathroom and my inner ASB kid screamed a lot. I miss camp ??'\n",
      " b'On I-405 southbound at Coal Creek Pkwy there is a collision blocking the center lane.'\n",
      " b'Julie + R is the apocalypse version of Romeo + Juliet #warmbodies'\n",
      " b\"@AaronTheFM guys to scared to show his real name anyway he knows I'll bomb him\"\n",
      " b'NWS has Continued a Severe Thunderstorm Warning for Oklahoma-OK until 10:30 PM'\n",
      " b\"It's crazy how a phone can do so much damage to a person\"\n",
      " b\"Another White mass murderer. Thank God I'm from California. @FrauTrapani\"\n",
      " b'Two cars collided following shotgun fire in Denton http://t.co/0r03C6njLI'\n",
      " b'Angry Woman Openly Accuses NEMA Of Stealing Relief Materials Meant For IDPs: An angry Internally Displaced wom... http://t.co/Khd99oZ7u3'\n",
      " b'Mango juice with crushed ice&gt;&gt;&gt;&gt;??'\n",
      " b'To All The Meat-Loving Feminists Of The World Riot Grill Has Arrived http://t.co/SkAAUSjpO4 OliviaMiles01'\n",
      " b'@CarsonRex @SpaceAngelSeven Check out this #rockin preview of @ClaytonBryant Danger Zone Coming soon! https://t.co/P0fiZxmN5r #ArtistsUnited'\n",
      " b\"@AssassinKPg Brother you don't want my friendship-you want to add your commercials on my posts. Frankly I'm inundated with this crap daily.\"\n",
      " b'Busty blonde teen Natalia Starr fucks the security guard on set http://t.co/qew4c5M1xd View and download video'\n",
      " b'@Bardissimo Yes life has a 100% fatality rate.'\n",
      " b'Blonde teen Courtney Laudner teases in her panties http://t.co/qew4c5M1xd View and download video'\n",
      " b'lizzie363 @CstSmith I drove thru deep water in a flash flood--rainstorm repair cost $14000. 25 yrs later people still thnk cars float!!!'\n",
      " b'Going back to Gainesville will be the death of me'\n",
      " b'Apply now to work for Dignity Health as #RN #Emergency Services Full Time 7a-7:30p Siena Campus in #Henderson #jobs http://t.co/FDiU44jLDJ'\n",
      " b'Wow! He crushed that! #EDWING #BlueJays'\n",
      " b\"'My Fifty Online Dates and why I'm still single' by Michael Windstorm $2.99 Amazon http://t.co/5KohO39oJE    #kindle  #datingtips #goodreads\"\n",
      " b\"Okay not sure the word 'mass murder' applies during this war but it was horrendous none the less. https://t.co/Sb3rjQqzIX\"], shape=(32,), dtype=string)\n",
      "tf.Tensor([0 1 0 1 0 0 1 1 1 0 0 1 0 0 1 0 1 1 0 0 0 0 0 0 0 0 1 1 0 0 0 1], shape=(32,), dtype=int64)\n"
     ]
    },
    {
     "name": "stderr",
     "output_type": "stream",
     "text": [
      "2024-03-24 19:08:39.099636: W tensorflow/core/framework/local_rendezvous.cc:404] Local rendezvous is aborting with status: OUT_OF_RANGE: End of sequence\n"
     ]
    }
   ],
   "source": [
    "batch_size = 32\n",
    "\n",
    "# Create TensorFlow datasets for train and validation sets\n",
    "train_dataset = tf.data.Dataset.from_tensor_slices((X_train, y_train))\n",
    "valid_dataset = tf.data.Dataset.from_tensor_slices((X_valid, y_valid))\n",
    "\n",
    "# Shuffle and batch the datasets\n",
    "train_dataset = train_dataset.shuffle(len(X_train)).batch(batch_size)\n",
    "valid_dataset = valid_dataset.batch(batch_size)\n",
    "\n",
    "# Print a few examples from the datasets\n",
    "for text, label in train_dataset.take(1):\n",
    "    print(text)\n",
    "    print(label)\n"
   ]
  },
  {
   "cell_type": "markdown",
   "id": "7ad78697-6ead-489e-95fb-e38e0325565d",
   "metadata": {},
   "source": [
    "## Machine Learning Models"
   ]
  },
  {
   "cell_type": "markdown",
   "id": "82a941a3-d470-4a5d-a001-828c8d8707ee",
   "metadata": {},
   "source": [
    "This step will create convert the trining sentences to lowercase and remove punctuations, then it splits the data based on \n",
    "white spaces and finally will sort the words by descending frequency to produce the most common 1000 words"
   ]
  },
  {
   "cell_type": "markdown",
   "id": "825a25aa-abd6-4fbf-9627-17757a44e6af",
   "metadata": {},
   "source": [
    "This function will help in running the test set so I can submit it to Kaggle"
   ]
  },
  {
   "cell_type": "markdown",
   "id": "03a234e9-37b1-4a6a-b64d-5c3a328a61d6",
   "metadata": {},
   "source": [
    "The `run_test` function will do the following:\n",
    "\n",
    "- Load the test data\n",
    "- Extract the text column\n",
    "- Create a TensorFlow dataset for the test set\n",
    "- Create a submission DataFrame with ID and prediction\n",
    "- And finally submit the `submission.csv` to Kaggle"
   ]
  },
  {
   "cell_type": "code",
   "execution_count": 20,
   "id": "673fdb87-cc5d-4b20-8588-24e5ba5405a7",
   "metadata": {},
   "outputs": [],
   "source": [
    "def run_test(model):\n",
    "    test_data = pd.read_csv(test_path)\n",
    "    test_text = test_data['text']\n",
    "    test_dataset = tf.data.Dataset.from_tensor_slices(test_text)\n",
    "    test_dataset = test_dataset.batch(batch_size)\n",
    "    threshold = 0.5 \n",
    "    predictions = (model.predict(test_dataset) > threshold).astype(int)\n",
    "    submission = pd.DataFrame({'id': test_data['id'], 'target': predictions.flatten()})\n",
    "    submission.to_csv(\"submission.csv\", index=False)\n"
   ]
  },
  {
   "cell_type": "code",
   "execution_count": 21,
   "id": "78ec98de-81fb-46aa-ab34-cc6ae0c05136",
   "metadata": {},
   "outputs": [
    {
     "name": "stderr",
     "output_type": "stream",
     "text": [
      "2024-03-24 19:08:45.628890: W tensorflow/core/framework/local_rendezvous.cc:404] Local rendezvous is aborting with status: OUT_OF_RANGE: End of sequence\n"
     ]
    }
   ],
   "source": [
    "vocab_size = 1000\n",
    "text_vec_layer = tf.keras.layers.TextVectorization(max_tokens=vocab_size)\n",
    "text_vec_layer.adapt(train_dataset.map(lambda text, target: text))"
   ]
  },
  {
   "cell_type": "markdown",
   "id": "dd9e8e93-7949-47d0-b514-40c12f8ea3a6",
   "metadata": {},
   "source": [
    "Will try running the following model "
   ]
  },
  {
   "cell_type": "code",
   "execution_count": 23,
   "id": "78a86a53-419e-4eb5-85c5-aba4a8a9e28a",
   "metadata": {},
   "outputs": [
    {
     "name": "stdout",
     "output_type": "stream",
     "text": [
      "Epoch 1/20\n"
     ]
    },
    {
     "name": "stderr",
     "output_type": "stream",
     "text": [
      "2024-03-24 19:09:29.105729: I external/local_xla/xla/stream_executor/cuda/cuda_dnn.cc:465] Loaded cuDNN version 8904\n"
     ]
    },
    {
     "name": "stdout",
     "output_type": "stream",
     "text": [
      "\u001b[1m191/191\u001b[0m \u001b[32m━━━━━━━━━━━━━━━━━━━━\u001b[0m\u001b[37m\u001b[0m \u001b[1m5s\u001b[0m 6ms/step - accuracy: 0.5761 - loss: 0.6839 - val_accuracy: 0.5791 - val_loss: 0.6791\n",
      "Epoch 2/20\n",
      "\u001b[1m191/191\u001b[0m \u001b[32m━━━━━━━━━━━━━━━━━━━━\u001b[0m\u001b[37m\u001b[0m \u001b[1m1s\u001b[0m 5ms/step - accuracy: 0.7171 - loss: 0.5685 - val_accuracy: 0.7840 - val_loss: 0.4684\n",
      "Epoch 3/20\n",
      "\u001b[1m191/191\u001b[0m \u001b[32m━━━━━━━━━━━━━━━━━━━━\u001b[0m\u001b[37m\u001b[0m \u001b[1m1s\u001b[0m 5ms/step - accuracy: 0.8192 - loss: 0.4335 - val_accuracy: 0.7938 - val_loss: 0.4744\n",
      "Epoch 4/20\n",
      "\u001b[1m191/191\u001b[0m \u001b[32m━━━━━━━━━━━━━━━━━━━━\u001b[0m\u001b[37m\u001b[0m \u001b[1m1s\u001b[0m 5ms/step - accuracy: 0.8431 - loss: 0.3832 - val_accuracy: 0.7932 - val_loss: 0.4676\n",
      "Epoch 5/20\n",
      "\u001b[1m191/191\u001b[0m \u001b[32m━━━━━━━━━━━━━━━━━━━━\u001b[0m\u001b[37m\u001b[0m \u001b[1m1s\u001b[0m 6ms/step - accuracy: 0.8447 - loss: 0.3767 - val_accuracy: 0.7945 - val_loss: 0.4957\n",
      "Epoch 6/20\n",
      "\u001b[1m191/191\u001b[0m \u001b[32m━━━━━━━━━━━━━━━━━━━━\u001b[0m\u001b[37m\u001b[0m \u001b[1m1s\u001b[0m 5ms/step - accuracy: 0.8628 - loss: 0.3422 - val_accuracy: 0.7833 - val_loss: 0.4967\n",
      "Epoch 7/20\n",
      "\u001b[1m191/191\u001b[0m \u001b[32m━━━━━━━━━━━━━━━━━━━━\u001b[0m\u001b[37m\u001b[0m \u001b[1m1s\u001b[0m 5ms/step - accuracy: 0.8765 - loss: 0.3152 - val_accuracy: 0.7873 - val_loss: 0.5423\n",
      "\u001b[1m48/48\u001b[0m \u001b[32m━━━━━━━━━━━━━━━━━━━━\u001b[0m\u001b[37m\u001b[0m \u001b[1m0s\u001b[0m 2ms/step - accuracy: 0.7887 - loss: 0.4842\n",
      "Validation Loss: 0.4675739109516144\n",
      "Validation Accuracy: 0.7931713461875916\n"
     ]
    }
   ],
   "source": [
    "embed_size = 128\n",
    "\n",
    "# Define the model architecture\n",
    "model = tf.keras.Sequential([\n",
    "    text_vec_layer,\n",
    "    tf.keras.layers.Embedding(vocab_size, embed_size),\n",
    "    tf.keras.layers.GRU(128, return_sequences=True),\n",
    "    tf.keras.layers.GRU(64),\n",
    "    tf.keras.layers.Dense(64, activation=\"relu\"),\n",
    "    tf.keras.layers.Dropout(0.5),\n",
    "    tf.keras.layers.Dense(1, activation=\"sigmoid\")\n",
    "])\n",
    "\n",
    "# Compile the model\n",
    "model.compile(loss=\"binary_crossentropy\", optimizer=\"adam\", metrics=[\"accuracy\"])\n",
    "\n",
    "# I'll add early stopping\n",
    "early_stopping = tf.keras.callbacks.EarlyStopping(patience=3, restore_best_weights=True)\n",
    "history = model.fit(train_dataset, validation_data=valid_dataset, epochs=20, callbacks=[early_stopping])\n",
    "\n",
    "# Evaluate the model on the validation set\n",
    "loss, accuracy = model.evaluate(valid_dataset)\n",
    "print(\"Validation Loss:\", loss)\n",
    "print(\"Validation Accuracy:\", accuracy)\n"
   ]
  },
  {
   "cell_type": "code",
   "execution_count": 118,
   "id": "43b23f89-12b4-420d-9c0f-ba94e131fd0b",
   "metadata": {},
   "outputs": [
    {
     "name": "stdout",
     "output_type": "stream",
     "text": [
      "102/102 [==============================] - 1s 3ms/step\n"
     ]
    }
   ],
   "source": [
    "run_test(model)"
   ]
  },
  {
   "cell_type": "markdown",
   "id": "2798f163-29d7-444f-8ba3-bae40d7218b7",
   "metadata": {},
   "source": [
    "This got ~79% accuracy using the validation set, I'll try makeing the model simpler by removing some layers"
   ]
  },
  {
   "cell_type": "code",
   "execution_count": 113,
   "id": "6ab216d9-8285-4c28-8637-05c1784f4de4",
   "metadata": {},
   "outputs": [
    {
     "name": "stdout",
     "output_type": "stream",
     "text": [
      "Epoch 1/20\n",
      "191/191 [==============================] - 8s 35ms/step - loss: 0.6444 - accuracy: 0.6167 - val_loss: 0.4813 - val_accuracy: 0.7787\n",
      "Epoch 2/20\n",
      "191/191 [==============================] - 2s 11ms/step - loss: 0.4430 - accuracy: 0.8056 - val_loss: 0.4724 - val_accuracy: 0.7945\n",
      "Epoch 3/20\n",
      "191/191 [==============================] - 1s 7ms/step - loss: 0.4029 - accuracy: 0.8278 - val_loss: 0.4702 - val_accuracy: 0.7905\n",
      "Epoch 4/20\n",
      "191/191 [==============================] - 1s 6ms/step - loss: 0.3803 - accuracy: 0.8373 - val_loss: 0.4704 - val_accuracy: 0.7945\n",
      "Epoch 5/20\n",
      "191/191 [==============================] - 1s 6ms/step - loss: 0.3653 - accuracy: 0.8524 - val_loss: 0.5063 - val_accuracy: 0.7932\n",
      "Epoch 6/20\n",
      "191/191 [==============================] - 1s 6ms/step - loss: 0.3433 - accuracy: 0.8622 - val_loss: 0.4887 - val_accuracy: 0.7886\n",
      "Epoch 7/20\n",
      "191/191 [==============================] - 1s 6ms/step - loss: 0.3243 - accuracy: 0.8734 - val_loss: 0.5146 - val_accuracy: 0.7814\n",
      "Epoch 8/20\n",
      "191/191 [==============================] - 1s 5ms/step - loss: 0.3006 - accuracy: 0.8819 - val_loss: 0.5715 - val_accuracy: 0.7787\n",
      "Epoch 9/20\n",
      "191/191 [==============================] - 1s 7ms/step - loss: 0.2848 - accuracy: 0.8867 - val_loss: 0.6399 - val_accuracy: 0.7807\n",
      "Epoch 10/20\n",
      "191/191 [==============================] - 1s 6ms/step - loss: 0.2604 - accuracy: 0.8979 - val_loss: 0.6022 - val_accuracy: 0.7728\n",
      "Epoch 11/20\n",
      "191/191 [==============================] - 1s 5ms/step - loss: 0.2430 - accuracy: 0.9059 - val_loss: 0.7065 - val_accuracy: 0.7689\n",
      "Epoch 12/20\n",
      "191/191 [==============================] - 1s 6ms/step - loss: 0.2251 - accuracy: 0.9131 - val_loss: 0.7701 - val_accuracy: 0.7669\n",
      "Epoch 13/20\n",
      "191/191 [==============================] - 1s 5ms/step - loss: 0.2129 - accuracy: 0.9197 - val_loss: 0.8208 - val_accuracy: 0.7643\n",
      "Epoch 14/20\n",
      "191/191 [==============================] - 1s 5ms/step - loss: 0.1928 - accuracy: 0.9232 - val_loss: 0.9820 - val_accuracy: 0.7630\n",
      "Epoch 15/20\n",
      "191/191 [==============================] - 1s 5ms/step - loss: 0.1823 - accuracy: 0.9307 - val_loss: 0.9486 - val_accuracy: 0.7551\n",
      "Epoch 16/20\n",
      "191/191 [==============================] - 1s 6ms/step - loss: 0.1709 - accuracy: 0.9317 - val_loss: 0.9484 - val_accuracy: 0.7538\n",
      "Epoch 17/20\n",
      "191/191 [==============================] - 1s 6ms/step - loss: 0.1620 - accuracy: 0.9327 - val_loss: 0.9313 - val_accuracy: 0.7505\n",
      "Epoch 18/20\n",
      "191/191 [==============================] - 1s 6ms/step - loss: 0.1519 - accuracy: 0.9381 - val_loss: 1.0214 - val_accuracy: 0.7538\n",
      "Epoch 19/20\n",
      "191/191 [==============================] - 1s 6ms/step - loss: 0.1477 - accuracy: 0.9397 - val_loss: 0.9668 - val_accuracy: 0.7564\n",
      "Epoch 20/20\n",
      "191/191 [==============================] - 1s 6ms/step - loss: 0.1304 - accuracy: 0.9478 - val_loss: 1.2204 - val_accuracy: 0.7334\n"
     ]
    }
   ],
   "source": [
    "tf.random.set_seed(42)\n",
    "model = tf.keras.Sequential([\n",
    "text_vec_layer,\n",
    "tf.keras.layers.Embedding(vocab_size, embed_size),\n",
    "tf.keras.layers.GRU(128),\n",
    "tf.keras.layers.Dense(1, activation=\"sigmoid\")\n",
    "])\n",
    "model.compile(loss=\"binary_crossentropy\", optimizer=\"nadam\",\n",
    "metrics=[\"accuracy\"])\n",
    "history = model.fit(train_dataset, validation_data=valid_dataset, epochs=20)"
   ]
  },
  {
   "cell_type": "markdown",
   "id": "22382579-1b4e-4568-8bd3-64391b5651f6",
   "metadata": {},
   "source": [
    "As you can see above the model started performing better bet then got worse, I'll try with 2 epochs only"
   ]
  },
  {
   "cell_type": "code",
   "execution_count": 123,
   "id": "059e070a-6674-4f21-9b71-a363f140f7c9",
   "metadata": {},
   "outputs": [
    {
     "name": "stdout",
     "output_type": "stream",
     "text": [
      "Epoch 1/2\n",
      "191/191 [==============================] - 8s 32ms/step - loss: 0.6544 - accuracy: 0.6053 - val_loss: 0.5026 - val_accuracy: 0.7689\n",
      "Epoch 2/2\n",
      "191/191 [==============================] - 2s 11ms/step - loss: 0.4532 - accuracy: 0.7956 - val_loss: 0.4671 - val_accuracy: 0.7925\n"
     ]
    }
   ],
   "source": [
    "embed_size = 128\n",
    "tf.random.set_seed(42)\n",
    "model = tf.keras.Sequential([\n",
    "text_vec_layer,\n",
    "tf.keras.layers.Embedding(vocab_size, embed_size),\n",
    "tf.keras.layers.GRU(128),\n",
    "tf.keras.layers.Dense(1, activation=\"sigmoid\")\n",
    "])\n",
    "model.compile(loss=\"binary_crossentropy\", optimizer=\"nadam\",\n",
    "metrics=[\"accuracy\"])\n",
    "history = model.fit(train_dataset, validation_data=valid_dataset, epochs=2)"
   ]
  },
  {
   "cell_type": "markdown",
   "id": "1fa825c3-98d8-4d26-9725-bcc5abcfa594",
   "metadata": {},
   "source": [
    "Submitting the `submission.csv` got me `0.79803`, next I'll modify the model and try to see if I can a better score"
   ]
  },
  {
   "cell_type": "markdown",
   "id": "b7552ff6-36c6-49dc-a718-8d87c1efbc68",
   "metadata": {},
   "source": [
    "First I'll increase the number of epochs and see if that alone helps"
   ]
  },
  {
   "cell_type": "code",
   "execution_count": 122,
   "id": "7fa25885-3c2a-4fed-9388-6b168cd790cf",
   "metadata": {},
   "outputs": [
    {
     "name": "stdout",
     "output_type": "stream",
     "text": [
      "102/102 [==============================] - 0s 2ms/step\n"
     ]
    }
   ],
   "source": [
    "run_test(model)"
   ]
  },
  {
   "cell_type": "markdown",
   "id": "0af68995-1390-44b2-b59b-547f895ddeb8",
   "metadata": {},
   "source": [
    "As you can see above, the simpler model, is doing much better that the complicated one."
   ]
  },
  {
   "cell_type": "markdown",
   "id": "c2ee9a31-7836-4842-90ea-cee90674c5c5",
   "metadata": {},
   "source": [
    "## Kaggle Score"
   ]
  },
  {
   "cell_type": "code",
   "execution_count": 3,
   "id": "8b66bf0a-0c59-4800-9213-354170b9a27b",
   "metadata": {},
   "outputs": [
    {
     "data": {
      "image/png": "[encoded data removed]",
      "text/plain": [
       "<IPython.core.display.Image object>"
      ]
     },
     "execution_count": 3,
     "metadata": {},
     "output_type": "execute_result"
    }
   ],
   "source": [
    "from IPython.display import Image\n",
    "Image(filename='kaggle-score.png') \n"
   ]
  },
  {
   "cell_type": "markdown",
   "id": "9535bc4b-7fca-420c-a5e2-d7dcbac90dbf",
   "metadata": {},
   "source": [
    "## Conclusion and Future Enhancements"
   ]
  },
  {
   "cell_type": "markdown",
   "id": "6c2fc9b5-7f0e-4d2e-8a8e-8a26cfe252e1",
   "metadata": {},
   "source": [
    "\n",
    "In this project, I ran sentiment analysis within the context of the Kaggle competition \"Natural Language Processing with Disaster Tweets.\" \n",
    "\n",
    "My objective was to decide whether a tweet is of a disaster or not. \n",
    "\n",
    "I started by partitioning the tweet dataset into training and validation sets, using Scikit-learn for this task. Subsequently, I prepared the text data for TensorFlow utilization, utilizing the TextVectorization layer. \n",
    "\n",
    "I've seen a minor issue due to datatype disparities, I was able to resolv it by converting the integer representations to strings. Following data preparation, I experimented with different model configurations and found success with a relatively simple architecture consisting of an embedding layer, a GRU layer, and a dense layer for prediction. \n",
    "\n",
    "This model provided me with the best performance, achieving highest accuracy on both training and validation data.\n",
    "\n",
    "**Future Enhancements:**\n",
    "\n",
    "To enhance the model accuracy even more, the following can be applied:\n",
    "\n",
    "- Feature Engineering: Add additional dataset features like tweet length, hashtags, or time of posting.\n",
    "\n",
    "- Advanced Text Processing: Experiment with techniques like stemming, lemmatization, or part-of-speech tagging for better text representation.\n",
    "\n",
    "- Optimize Model Architecture: Fine-tune hyperparameters, try different layers (e.g., LSTM), or use dropout regularization to prevent overfitting.\n",
    "\n",
    "- Transfer Learning: Utilize pre-trained language models like BERT or GPT and fine-tune them for tweet classification.\n",
    "\n",
    "- Data Augmentation: Generate synthetic examples to increase training data diversity and improve model generalization.\n",
    "\n",
    "- Hyperparameter Tuning: Systematically search for optimal hyperparameters using methods like grid search or random search."
   ]
  },
  {
   "cell_type": "markdown",
   "id": "c9a4a2ba-980b-4610-b050-c21b5b71ac0a",
   "metadata": {},
   "source": [
    "## References:\n",
    "\n",
    "https://www.kaggle.com/competitions/nlp-getting-started/overview\n"
   ]
  },
  {
   "cell_type": "markdown",
   "id": "781338a3-822f-4aba-a700-29e6ae692a3e",
   "metadata": {},
   "source": [
    "## Citation\n",
    "Addison Howard, devrishi, Phil Culliton, Yufeng Guo. (2019). Natural Language Processing with Disaster Tweets. Kaggle. https://kaggle.com/competitions/nlp-getting-started"
   ]
  },
  {
   "cell_type": "code",
   "execution_count": null,
   "id": "c044aa0b-ada7-4cb7-9e2c-f01206e54bc5",
   "metadata": {},
   "outputs": [],
   "source": []
  }
 ],
 "metadata": {
  "kernelspec": {
   "display_name": "Python 3 (ipykernel)",
   "language": "python",
   "name": "python3"
  },
  "language_info": {
   "codemirror_mode": {
    "name": "ipython",
    "version": 3
   },
   "file_extension": ".py",
   "mimetype": "text/x-python",
   "name": "python",
   "nbconvert_exporter": "python",
   "pygments_lexer": "ipython3",
   "version": "3.10.12"
  }
 },
 "nbformat": 4,
 "nbformat_minor": 5
}
